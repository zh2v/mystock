{
 "cells": [
  {
   "cell_type": "code",
   "execution_count": null,
   "metadata": {},
   "outputs": [],
   "source": [
    "import pandas as pd\n",
    "import baostock as bs"
   ]
  },
  {
   "cell_type": "code",
   "execution_count": 112,
   "metadata": {},
   "outputs": [
    {
     "name": "stdout",
     "output_type": "stream",
     "text": [
      "login success!\n",
      "login respond error_code:0\n",
      "login respond error_msg:success\n",
      "query_all_stock respond error_code:0\n",
      "query_all_stock respond error_msg:success\n"
     ]
    }
   ],
   "source": [
    "# 登陆系统\n",
    "lg = bs.login()\n",
    "# 显示登陆返回信息\n",
    "print('login respond error_code:' + lg.error_code)\n",
    "print('login respond error_msg:' + lg.error_msg)\n",
    "\n",
    "# 获取某一天的全市场的证券和指数代码\n",
    "rs = bs.query_all_stock(day=\"2022-07-08\")\n",
    "print('query_all_stock respond error_code:' + rs.error_code)\n",
    "print('query_all_stock respond error_msg:' + rs.error_msg)\n",
    "# 打印结果集\n"
   ]
  },
  {
   "cell_type": "code",
   "execution_count": 113,
   "metadata": {},
   "outputs": [
    {
     "data": {
      "text/html": [
       "<div>\n",
       "<style scoped>\n",
       "    .dataframe tbody tr th:only-of-type {\n",
       "        vertical-align: middle;\n",
       "    }\n",
       "\n",
       "    .dataframe tbody tr th {\n",
       "        vertical-align: top;\n",
       "    }\n",
       "\n",
       "    .dataframe thead th {\n",
       "        text-align: right;\n",
       "    }\n",
       "</style>\n",
       "<table border=\"1\" class=\"dataframe\">\n",
       "  <thead>\n",
       "    <tr style=\"text-align: right;\">\n",
       "      <th></th>\n",
       "      <th>code</th>\n",
       "      <th>tradeStatus</th>\n",
       "      <th>code_name</th>\n",
       "    </tr>\n",
       "  </thead>\n",
       "  <tbody>\n",
       "    <tr>\n",
       "      <th>1000</th>\n",
       "      <td>sh.600839</td>\n",
       "      <td>1</td>\n",
       "      <td>四川长虹</td>\n",
       "    </tr>\n",
       "    <tr>\n",
       "      <th>1001</th>\n",
       "      <td>sh.600841</td>\n",
       "      <td>1</td>\n",
       "      <td>动力新科</td>\n",
       "    </tr>\n",
       "    <tr>\n",
       "      <th>1002</th>\n",
       "      <td>sh.600843</td>\n",
       "      <td>1</td>\n",
       "      <td>上工申贝</td>\n",
       "    </tr>\n",
       "    <tr>\n",
       "      <th>1003</th>\n",
       "      <td>sh.600844</td>\n",
       "      <td>1</td>\n",
       "      <td>丹化科技</td>\n",
       "    </tr>\n",
       "    <tr>\n",
       "      <th>1004</th>\n",
       "      <td>sh.600845</td>\n",
       "      <td>1</td>\n",
       "      <td>宝信软件</td>\n",
       "    </tr>\n",
       "    <tr>\n",
       "      <th>...</th>\n",
       "      <td>...</td>\n",
       "      <td>...</td>\n",
       "      <td>...</td>\n",
       "    </tr>\n",
       "    <tr>\n",
       "      <th>5325</th>\n",
       "      <td>sz.399994</td>\n",
       "      <td>1</td>\n",
       "      <td>中证信息安全主题指数</td>\n",
       "    </tr>\n",
       "    <tr>\n",
       "      <th>5326</th>\n",
       "      <td>sz.399995</td>\n",
       "      <td>1</td>\n",
       "      <td>中证基建工程指数</td>\n",
       "    </tr>\n",
       "    <tr>\n",
       "      <th>5327</th>\n",
       "      <td>sz.399996</td>\n",
       "      <td>1</td>\n",
       "      <td>中证智能家居指数</td>\n",
       "    </tr>\n",
       "    <tr>\n",
       "      <th>5328</th>\n",
       "      <td>sz.399997</td>\n",
       "      <td>1</td>\n",
       "      <td>中证白酒指数</td>\n",
       "    </tr>\n",
       "    <tr>\n",
       "      <th>5329</th>\n",
       "      <td>sz.399998</td>\n",
       "      <td>1</td>\n",
       "      <td>中证煤炭指数</td>\n",
       "    </tr>\n",
       "  </tbody>\n",
       "</table>\n",
       "<p>4330 rows × 3 columns</p>\n",
       "</div>"
      ],
      "text/plain": [
       "           code tradeStatus   code_name\n",
       "1000  sh.600839           1        四川长虹\n",
       "1001  sh.600841           1        动力新科\n",
       "1002  sh.600843           1        上工申贝\n",
       "1003  sh.600844           1        丹化科技\n",
       "1004  sh.600845           1        宝信软件\n",
       "...         ...         ...         ...\n",
       "5325  sz.399994           1  中证信息安全主题指数\n",
       "5326  sz.399995           1    中证基建工程指数\n",
       "5327  sz.399996           1    中证智能家居指数\n",
       "5328  sz.399997           1      中证白酒指数\n",
       "5329  sz.399998           1      中证煤炭指数\n",
       "\n",
       "[4330 rows x 3 columns]"
      ]
     },
     "execution_count": 113,
     "metadata": {},
     "output_type": "execute_result"
    }
   ],
   "source": [
    "codel=rs.get_data()\n",
    "codel[1000:]\n"
   ]
  },
  {
   "cell_type": "code",
   "execution_count": 53,
   "metadata": {
    "scrolled": true
   },
   "outputs": [
    {
     "data": {
      "text/plain": [
       "'0'"
      ]
     },
     "execution_count": 53,
     "metadata": {},
     "output_type": "execute_result"
    }
   ],
   "source": [
    "rs1 = bs.query_history_k_data_plus('sh.600031', \"date,code,pbMRQ,peTTM,pcfNcfTTM\", start_date='2022-07-04', end_date='2022-07-08',\n",
    "                                 frequency=\"d\", adjustflag=\"3\")\n",
    "rs1.error_code"
   ]
  },
  {
   "cell_type": "code",
   "execution_count": 15,
   "metadata": {},
   "outputs": [
    {
     "data": {
      "text/plain": [
       "['date', 'code', 'pbMRQ', 'peTTM', 'pcfNcfTTM']"
      ]
     },
     "execution_count": 15,
     "metadata": {},
     "output_type": "execute_result"
    }
   ],
   "source": [
    "rs1.fields"
   ]
  },
  {
   "cell_type": "code",
   "execution_count": 11,
   "metadata": {},
   "outputs": [
    {
     "data": {
      "text/html": [
       "<div>\n",
       "<style scoped>\n",
       "    .dataframe tbody tr th:only-of-type {\n",
       "        vertical-align: middle;\n",
       "    }\n",
       "\n",
       "    .dataframe tbody tr th {\n",
       "        vertical-align: top;\n",
       "    }\n",
       "\n",
       "    .dataframe thead th {\n",
       "        text-align: right;\n",
       "    }\n",
       "</style>\n",
       "<table border=\"1\" class=\"dataframe\">\n",
       "  <thead>\n",
       "    <tr style=\"text-align: right;\">\n",
       "      <th></th>\n",
       "      <th>date</th>\n",
       "      <th>code</th>\n",
       "      <th>pbMRQ</th>\n",
       "      <th>peTTM</th>\n",
       "      <th>pcfNcfTTM</th>\n",
       "    </tr>\n",
       "  </thead>\n",
       "  <tbody>\n",
       "    <tr>\n",
       "      <th>0</th>\n",
       "      <td>2022-07-04</td>\n",
       "      <td>sh.600031</td>\n",
       "      <td>2.581101</td>\n",
       "      <td>20.831129</td>\n",
       "      <td>84.254153</td>\n",
       "    </tr>\n",
       "    <tr>\n",
       "      <th>1</th>\n",
       "      <td>2022-07-05</td>\n",
       "      <td>sh.600031</td>\n",
       "      <td>2.525131</td>\n",
       "      <td>20.379420</td>\n",
       "      <td>82.427160</td>\n",
       "    </tr>\n",
       "    <tr>\n",
       "      <th>2</th>\n",
       "      <td>2022-07-06</td>\n",
       "      <td>sh.600031</td>\n",
       "      <td>2.431415</td>\n",
       "      <td>19.623070</td>\n",
       "      <td>79.368007</td>\n",
       "    </tr>\n",
       "    <tr>\n",
       "      <th>3</th>\n",
       "      <td>2022-07-07</td>\n",
       "      <td>sh.600031</td>\n",
       "      <td>2.462654</td>\n",
       "      <td>19.875187</td>\n",
       "      <td>80.387725</td>\n",
       "    </tr>\n",
       "    <tr>\n",
       "      <th>4</th>\n",
       "      <td>2022-07-08</td>\n",
       "      <td>sh.600031</td>\n",
       "      <td>2.474368</td>\n",
       "      <td>19.969730</td>\n",
       "      <td>80.770119</td>\n",
       "    </tr>\n",
       "  </tbody>\n",
       "</table>\n",
       "</div>"
      ],
      "text/plain": [
       "         date       code     pbMRQ      peTTM  pcfNcfTTM\n",
       "0  2022-07-04  sh.600031  2.581101  20.831129  84.254153\n",
       "1  2022-07-05  sh.600031  2.525131  20.379420  82.427160\n",
       "2  2022-07-06  sh.600031  2.431415  19.623070  79.368007\n",
       "3  2022-07-07  sh.600031  2.462654  19.875187  80.387725\n",
       "4  2022-07-08  sh.600031  2.474368  19.969730  80.770119"
      ]
     },
     "execution_count": 11,
     "metadata": {},
     "output_type": "execute_result"
    }
   ],
   "source": [
    "result = rs1.get_data()\n",
    "result\n"
   ]
  },
  {
   "cell_type": "code",
   "execution_count": 102,
   "metadata": {},
   "outputs": [
    {
     "data": {
      "text/plain": [
       "False"
      ]
     },
     "execution_count": 102,
     "metadata": {},
     "output_type": "execute_result"
    }
   ],
   "source": [
    "rs1.next()\n"
   ]
  },
  {
   "cell_type": "code",
   "execution_count": 100,
   "metadata": {},
   "outputs": [
    {
     "data": {
      "text/plain": [
       "[]"
      ]
     },
     "execution_count": 100,
     "metadata": {},
     "output_type": "execute_result"
    }
   ],
   "source": [
    "rs1.get_row_data()"
   ]
  },
  {
   "cell_type": "code",
   "execution_count": 13,
   "metadata": {},
   "outputs": [
    {
     "name": "stdout",
     "output_type": "stream",
     "text": [
      "<class 'pandas.core.frame.DataFrame'>\n",
      "RangeIndex: 5 entries, 0 to 4\n",
      "Data columns (total 5 columns):\n",
      " #   Column     Non-Null Count  Dtype \n",
      "---  ------     --------------  ----- \n",
      " 0   date       5 non-null      object\n",
      " 1   code       5 non-null      object\n",
      " 2   pbMRQ      5 non-null      object\n",
      " 3   peTTM      5 non-null      object\n",
      " 4   pcfNcfTTM  5 non-null      object\n",
      "dtypes: object(5)\n",
      "memory usage: 328.0+ bytes\n"
     ]
    }
   ],
   "source": [
    "result.info()"
   ]
  },
  {
   "cell_type": "code",
   "execution_count": 965,
   "metadata": {},
   "outputs": [
    {
     "data": {
      "text/html": [
       "<div>\n",
       "<style scoped>\n",
       "    .dataframe tbody tr th:only-of-type {\n",
       "        vertical-align: middle;\n",
       "    }\n",
       "\n",
       "    .dataframe tbody tr th {\n",
       "        vertical-align: top;\n",
       "    }\n",
       "\n",
       "    .dataframe thead th {\n",
       "        text-align: right;\n",
       "    }\n",
       "</style>\n",
       "<table border=\"1\" class=\"dataframe\">\n",
       "  <thead>\n",
       "    <tr style=\"text-align: right;\">\n",
       "      <th></th>\n",
       "      <th>date</th>\n",
       "      <th>code</th>\n",
       "      <th>pbMRQ</th>\n",
       "      <th>peTTM</th>\n",
       "      <th>pcfNcfTTM</th>\n",
       "    </tr>\n",
       "  </thead>\n",
       "  <tbody>\n",
       "    <tr>\n",
       "      <th>0</th>\n",
       "      <td>2022-07-08</td>\n",
       "      <td>sh.600030</td>\n",
       "      <td>1.328690</td>\n",
       "      <td>13.224920</td>\n",
       "      <td>2.387478</td>\n",
       "    </tr>\n",
       "  </tbody>\n",
       "</table>\n",
       "</div>"
      ],
      "text/plain": [
       "         date       code     pbMRQ      peTTM pcfNcfTTM\n",
       "0  2022-07-08  sh.600030  1.328690  13.224920  2.387478"
      ]
     },
     "execution_count": 965,
     "metadata": {},
     "output_type": "execute_result"
    }
   ],
   "source": [
    "df = pd.DataFrame()\n",
    "if float(result.iloc[0, 2]) != 0:\n",
    "    if df.empty:\n",
    "        df = result\n",
    "df"
   ]
  },
  {
   "cell_type": "code",
   "execution_count": 1336,
   "metadata": {},
   "outputs": [
    {
     "data": {
      "text/html": [
       "<div>\n",
       "<style scoped>\n",
       "    .dataframe tbody tr th:only-of-type {\n",
       "        vertical-align: middle;\n",
       "    }\n",
       "\n",
       "    .dataframe tbody tr th {\n",
       "        vertical-align: top;\n",
       "    }\n",
       "\n",
       "    .dataframe thead th {\n",
       "        text-align: right;\n",
       "    }\n",
       "</style>\n",
       "<table border=\"1\" class=\"dataframe\">\n",
       "  <thead>\n",
       "    <tr style=\"text-align: right;\">\n",
       "      <th></th>\n",
       "      <th>date</th>\n",
       "      <th>code</th>\n",
       "      <th>pbMRQ</th>\n",
       "      <th>peTTM</th>\n",
       "      <th>pcfNcfTTM</th>\n",
       "    </tr>\n",
       "  </thead>\n",
       "  <tbody>\n",
       "    <tr>\n",
       "      <th>0</th>\n",
       "      <td>2022-07-08</td>\n",
       "      <td>sh.600030</td>\n",
       "      <td>1.32869</td>\n",
       "      <td>13.22492</td>\n",
       "      <td>2.387478</td>\n",
       "    </tr>\n",
       "    <tr>\n",
       "      <th>0</th>\n",
       "      <td>2022-07-08</td>\n",
       "      <td>sh.600031</td>\n",
       "      <td>2.474368</td>\n",
       "      <td>19.96973</td>\n",
       "      <td>80.770119</td>\n",
       "    </tr>\n",
       "    <tr>\n",
       "      <th>0</th>\n",
       "      <td>2022-07-08</td>\n",
       "      <td>sh.600032</td>\n",
       "      <td>3.792883</td>\n",
       "      <td>49.288099</td>\n",
       "      <td>15.923289</td>\n",
       "    </tr>\n",
       "    <tr>\n",
       "      <th>0</th>\n",
       "      <td>2022-07-08</td>\n",
       "      <td>sh.600036</td>\n",
       "      <td>1.309936</td>\n",
       "      <td>8.101429</td>\n",
       "      <td>31.669991</td>\n",
       "    </tr>\n",
       "  </tbody>\n",
       "</table>\n",
       "</div>"
      ],
      "text/plain": [
       "         date       code     pbMRQ      peTTM  pcfNcfTTM\n",
       "0  2022-07-08  sh.600030   1.32869   13.22492   2.387478\n",
       "0  2022-07-08  sh.600031  2.474368   19.96973  80.770119\n",
       "0  2022-07-08  sh.600032  3.792883  49.288099  15.923289\n",
       "0  2022-07-08  sh.600036  1.309936   8.101429  31.669991"
      ]
     },
     "execution_count": 1336,
     "metadata": {},
     "output_type": "execute_result"
    }
   ],
   "source": [
    "if float(result.iloc[0, 2]) != 0:\n",
    "    if df.empty:\n",
    "        df = result\n",
    "    else:\n",
    "        df = pd.concat([df, result])\n",
    "df        "
   ]
  },
  {
   "cell_type": "code",
   "execution_count": null,
   "metadata": {},
   "outputs": [],
   "source": [
    "df = pd.DataFrame()\n",
    "# 获取沪深A股历史K线数据\n",
    "for code in code_list:\n",
    "    # 详细指标参数，参见“历史行情指标参数”章节\n",
    "    rs = bs.query_history_k_data_plus(code, \"date,code,pbMRQ,peTTM,pcfNcfTTM\", start_date='2022-07-08', end_date='2022-07-08',\n",
    "                                 frequency=\"d\", adjustflag=\"3\")\n",
    "    if rs.error_code == '0':\n",
    "        result = rs.get_data()\n",
    "        n = result.shape[0]\n",
    "        if n <= 0:\n",
    "            continue\n",
    "        # 删除pbMRQ为0的证券或指数\n",
    "        if float(result.iloc[0, 2]) != 0:\n",
    "            if df.empty:\n",
    "                df = rs.get_data()\n",
    "            else:\n",
    "                df = pd.concat([df, rs.get_data()])\n",
    "    # print(df)\n"
   ]
  },
  {
   "cell_type": "code",
   "execution_count": 1337,
   "metadata": {},
   "outputs": [
    {
     "name": "stdout",
     "output_type": "stream",
     "text": [
      "当天A股市场pb最低的证券：sh.600036\n",
      "logout success!\n"
     ]
    },
    {
     "data": {
      "text/plain": [
       "<baostock.data.resultset.ResultData at 0x1eb037eadf0>"
      ]
     },
     "execution_count": 1337,
     "metadata": {},
     "output_type": "execute_result"
    }
   ],
   "source": [
    "# 结果集输出到csv文件\n",
    "# df.to_csv(\"Data\\\\history_A_stock_k_data.csv\", index=False)\n",
    "# print(df)\n",
    "df['pbMRQ'] = df['pbMRQ'].astype(float)\n",
    "df['peTTM'] = df['peTTM'].astype(float)\n",
    "df['pcfNcfTTM'] = df['pcfNcfTTM'].astype(float)\n",
    "# 以pbMRQ进行升序排序\n",
    "df_sortby_pbMRQ = df.sort_values(by='peTTM')\n",
    "# 存入文件\n",
    "# df_sortby_pbMRQ.to_csv(\"Data\\\\history_A_stock_k_data2.csv\", index=False)\n",
    "print(\"当天A股市场pb最低的证券：\" + df_sortby_pbMRQ.iloc[0][1])\n",
    "# 登出系统\n",
    "bs.logout()"
   ]
  },
  {
   "cell_type": "code",
   "execution_count": 411,
   "metadata": {},
   "outputs": [
    {
     "name": "stdout",
     "output_type": "stream",
     "text": [
      "5\n",
      "6\n",
      "7\n",
      "8\n",
      "9\n"
     ]
    }
   ],
   "source": [
    "for i in range(10):\n",
    "    if i<5:\n",
    "        continue\n",
    "    print(i)"
   ]
  }
 ],
 "metadata": {
  "kernelspec": {
   "display_name": "Python 3 (ipykernel)",
   "language": "python",
   "name": "python3"
  },
  "language_info": {
   "codemirror_mode": {
    "name": "ipython",
    "version": 3
   },
   "file_extension": ".py",
   "mimetype": "text/x-python",
   "name": "python",
   "nbconvert_exporter": "python",
   "pygments_lexer": "ipython3",
   "version": "3.9.7"
  }
 },
 "nbformat": 4,
 "nbformat_minor": 5
}

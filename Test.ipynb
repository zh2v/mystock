{
 "cells": [
  {
   "cell_type": "code",
   "execution_count": 1,
   "id": "4beb53eb",
   "metadata": {},
   "outputs": [],
   "source": [
    "import pandas as pd\n",
    "import baostock as bs\n",
    "import datetime\n",
    "import BS_function as Bsf\n",
    "import Avg_EarningRate as Avg_ERt"
   ]
  },
  {
   "cell_type": "code",
   "execution_count": 2,
   "id": "39f6bed3",
   "metadata": {},
   "outputs": [],
   "source": [
    "start_date = '2022-08-29'\n",
    "end_date = '2022-09-02'\n",
    "code = \"sh.600031\""
   ]
  },
  {
   "cell_type": "code",
   "execution_count": 42,
   "id": "831ace4f",
   "metadata": {},
   "outputs": [
    {
     "name": "stdout",
     "output_type": "stream",
     "text": [
      "login success!\n"
     ]
    },
    {
     "data": {
      "text/html": [
       "<div>\n",
       "<style scoped>\n",
       "    .dataframe tbody tr th:only-of-type {\n",
       "        vertical-align: middle;\n",
       "    }\n",
       "\n",
       "    .dataframe tbody tr th {\n",
       "        vertical-align: top;\n",
       "    }\n",
       "\n",
       "    .dataframe thead th {\n",
       "        text-align: right;\n",
       "    }\n",
       "</style>\n",
       "<table border=\"1\" class=\"dataframe\">\n",
       "  <thead>\n",
       "    <tr style=\"text-align: right;\">\n",
       "      <th></th>\n",
       "      <th>close</th>\n",
       "    </tr>\n",
       "  </thead>\n",
       "  <tbody>\n",
       "    <tr>\n",
       "      <th>sh.600031</th>\n",
       "      <td>565.9184462400</td>\n",
       "    </tr>\n",
       "  </tbody>\n",
       "</table>\n",
       "</div>"
      ],
      "text/plain": [
       "                    close\n",
       "sh.600031  565.9184462400"
      ]
     },
     "execution_count": 42,
     "metadata": {},
     "output_type": "execute_result"
    }
   ],
   "source": [
    "lg = bs.login()\n",
    "rs_close = bs.query_history_k_data(code, \"close\", start_date=end_date, end_date=end_date, frequency=\"d\",\n",
    "                                       adjustflag=\"1\")  # 获取证券当日收盘价，后复权1，前复权2，默认不复权3\n",
    "\n",
    "data_list = []\n",
    "result_close = rs_close.get_data()\n",
    "result_close.index=[code]\n",
    "# while (rs_close.error_code == '0') & rs_close.next():\n",
    "#         # 获取一条记录，将记录合并在一起\n",
    "#     data_list.append(rs_close.get_row_data())\n",
    "# result_close = pd.DataFrame(data_list, columns=rs_close.fields, index=[code])\n",
    "result_close"
   ]
  },
  {
   "cell_type": "code",
   "execution_count": 45,
   "id": "60c0382d",
   "metadata": {},
   "outputs": [
    {
     "data": {
      "text/html": [
       "<div>\n",
       "<style scoped>\n",
       "    .dataframe tbody tr th:only-of-type {\n",
       "        vertical-align: middle;\n",
       "    }\n",
       "\n",
       "    .dataframe tbody tr th {\n",
       "        vertical-align: top;\n",
       "    }\n",
       "\n",
       "    .dataframe thead th {\n",
       "        text-align: right;\n",
       "    }\n",
       "</style>\n",
       "<table border=\"1\" class=\"dataframe\">\n",
       "  <thead>\n",
       "    <tr style=\"text-align: right;\">\n",
       "      <th></th>\n",
       "      <th>open</th>\n",
       "      <th>close</th>\n",
       "    </tr>\n",
       "  </thead>\n",
       "  <tbody>\n",
       "    <tr>\n",
       "      <th>sh.600031</th>\n",
       "      <td>553.5922276800</td>\n",
       "      <td>565.9184462400</td>\n",
       "    </tr>\n",
       "  </tbody>\n",
       "</table>\n",
       "</div>"
      ],
      "text/plain": [
       "                     open           close\n",
       "sh.600031  553.5922276800  565.9184462400"
      ]
     },
     "execution_count": 45,
     "metadata": {},
     "output_type": "execute_result"
    }
   ],
   "source": [
    "result = result_open.join(result_close)\n",
    "result"
   ]
  },
  {
   "cell_type": "code",
   "execution_count": 3,
   "id": "f29dab72",
   "metadata": {},
   "outputs": [
    {
     "data": {
      "text/html": [
       "<div>\n",
       "<style scoped>\n",
       "    .dataframe tbody tr th:only-of-type {\n",
       "        vertical-align: middle;\n",
       "    }\n",
       "\n",
       "    .dataframe tbody tr th {\n",
       "        vertical-align: top;\n",
       "    }\n",
       "\n",
       "    .dataframe thead th {\n",
       "        text-align: right;\n",
       "    }\n",
       "</style>\n",
       "<table border=\"1\" class=\"dataframe\">\n",
       "  <thead>\n",
       "    <tr style=\"text-align: right;\">\n",
       "      <th></th>\n",
       "      <th>code</th>\n",
       "      <th>code_name</th>\n",
       "    </tr>\n",
       "  </thead>\n",
       "  <tbody>\n",
       "    <tr>\n",
       "      <th>0</th>\n",
       "      <td>of.159001</td>\n",
       "      <td>易方达保证金货币A</td>\n",
       "    </tr>\n",
       "    <tr>\n",
       "      <th>1</th>\n",
       "      <td>of.159003</td>\n",
       "      <td>招商保证金快线A</td>\n",
       "    </tr>\n",
       "    <tr>\n",
       "      <th>2</th>\n",
       "      <td>of.159005</td>\n",
       "      <td>汇添富收益快钱货币A</td>\n",
       "    </tr>\n",
       "    <tr>\n",
       "      <th>3</th>\n",
       "      <td>of.159601</td>\n",
       "      <td>华夏MSCI中国A50互联互通ETF</td>\n",
       "    </tr>\n",
       "    <tr>\n",
       "      <th>4</th>\n",
       "      <td>of.159602</td>\n",
       "      <td>南方MSCI中国A50互联互通ETF</td>\n",
       "    </tr>\n",
       "    <tr>\n",
       "      <th>...</th>\n",
       "      <td>...</td>\n",
       "      <td>...</td>\n",
       "    </tr>\n",
       "    <tr>\n",
       "      <th>7092</th>\n",
       "      <td>sz.399994</td>\n",
       "      <td>中证信息安全主题指数</td>\n",
       "    </tr>\n",
       "    <tr>\n",
       "      <th>7093</th>\n",
       "      <td>sz.399995</td>\n",
       "      <td>中证基建工程指数</td>\n",
       "    </tr>\n",
       "    <tr>\n",
       "      <th>7094</th>\n",
       "      <td>sz.399996</td>\n",
       "      <td>中证智能家居指数</td>\n",
       "    </tr>\n",
       "    <tr>\n",
       "      <th>7095</th>\n",
       "      <td>sz.399997</td>\n",
       "      <td>中证白酒指数</td>\n",
       "    </tr>\n",
       "    <tr>\n",
       "      <th>7096</th>\n",
       "      <td>sz.399998</td>\n",
       "      <td>中证煤炭指数</td>\n",
       "    </tr>\n",
       "  </tbody>\n",
       "</table>\n",
       "<p>7097 rows × 2 columns</p>\n",
       "</div>"
      ],
      "text/plain": [
       "           code           code_name\n",
       "0     of.159001           易方达保证金货币A\n",
       "1     of.159003            招商保证金快线A\n",
       "2     of.159005          汇添富收益快钱货币A\n",
       "3     of.159601  华夏MSCI中国A50互联互通ETF\n",
       "4     of.159602  南方MSCI中国A50互联互通ETF\n",
       "...         ...                 ...\n",
       "7092  sz.399994          中证信息安全主题指数\n",
       "7093  sz.399995            中证基建工程指数\n",
       "7094  sz.399996            中证智能家居指数\n",
       "7095  sz.399997              中证白酒指数\n",
       "7096  sz.399998              中证煤炭指数\n",
       "\n",
       "[7097 rows x 2 columns]"
      ]
     },
     "execution_count": 3,
     "metadata": {},
     "output_type": "execute_result"
    }
   ],
   "source": [
    "code_list = pd.read_csv(\"Data/stock_basic.csv\")  # 获取所有证券代码信息\n",
    "# code_list = code_list[code_list['type']==1]\n",
    "code_list = code_list[['code','code_name']]\n",
    "code_list"
   ]
  },
  {
   "cell_type": "code",
   "execution_count": 59,
   "id": "494864db",
   "metadata": {},
   "outputs": [
    {
     "data": {
      "text/plain": [
       "['sh.000002', 'sz.000002']"
      ]
     },
     "execution_count": 59,
     "metadata": {},
     "output_type": "execute_result"
    }
   ],
   "source": [
    "code_name='000002'\n",
    "code_lst=[]\n",
    "for code_b in code_list['code']:        \n",
    "    if code_b[-6:]==code_name:\n",
    "        code_lst.append(code_b)\n",
    "code_lst"
   ]
  },
  {
   "cell_type": "code",
   "execution_count": 68,
   "id": "f3b903cb",
   "metadata": {},
   "outputs": [
    {
     "data": {
      "text/plain": [
       "\"['sh.000002', 'sz.000002']\""
      ]
     },
     "execution_count": 68,
     "metadata": {},
     "output_type": "execute_result"
    }
   ],
   "source": [
    "str(code_lst)"
   ]
  },
  {
   "cell_type": "code",
   "execution_count": 74,
   "id": "b50fc543",
   "metadata": {},
   "outputs": [
    {
     "data": {
      "text/plain": [
       "\"输入的代码不唯一['sh.000002', 'sz.000002']，请加上前缀sh./sz./...\""
      ]
     },
     "execution_count": 74,
     "metadata": {},
     "output_type": "execute_result"
    }
   ],
   "source": [
    "\n",
    "msg = '输入的代码不唯一'+str(code_lst)+'，请加上前缀sh./sz./...'\n",
    "# print('输入的代码不唯一，请加上前缀sh./sz./...'.format(a=str(code_lst))\n",
    "msg"
   ]
  },
  {
   "cell_type": "code",
   "execution_count": 10,
   "id": "11babcd3",
   "metadata": {},
   "outputs": [
    {
     "data": {
      "text/plain": [
       "7"
      ]
     },
     "execution_count": 10,
     "metadata": {},
     "output_type": "execute_result"
    }
   ],
   "source": [
    "code_name = \"sh.600031\"\n",
    "d=0\n",
    "if len(code_name) == 9:\n",
    "    d=7\n",
    "d"
   ]
  },
  {
   "cell_type": "code",
   "execution_count": 26,
   "id": "ce04e48f",
   "metadata": {},
   "outputs": [
    {
     "name": "stdout",
     "output_type": "stream",
     "text": [
      "login success!\n",
      "login respond error_code:0\n",
      "login respond  error_msg:success\n",
      "query_stock_basic respond error_code:0\n",
      "query_stock_basic respond  error_msg:success\n",
      "        code code_name     ipoDate outDate type status\n",
      "0  sh.600000      浦发银行  1999-11-10            1      1\n",
      "logout success!\n"
     ]
    },
    {
     "data": {
      "text/plain": [
       "'浦发银行'"
      ]
     },
     "execution_count": 26,
     "metadata": {},
     "output_type": "execute_result"
    }
   ],
   "source": [
    "import baostock as bs\n",
    "import pandas as pd\n",
    "\n",
    "# 登陆系统\n",
    "lg = bs.login()\n",
    "# 显示登陆返回信息\n",
    "print('login respond error_code:'+lg.error_code)\n",
    "print('login respond  error_msg:'+lg.error_msg)\n",
    "\n",
    "code=\"浦发银行\"\n",
    "\n",
    "# rs = bs.query_stock_basic(code=\"sh.600000\")\n",
    "rs = bs.query_stock_basic(code_name=code)  # 支持模糊查询\n",
    "print('query_stock_basic respond error_code:'+rs.error_code)\n",
    "print('query_stock_basic respond  error_msg:'+rs.error_msg)\n",
    "\n",
    "# 打印结果集\n",
    "\n",
    "if rs.error_code == '0':\n",
    "    # 获取一条记录，\n",
    "    result = rs.get_data()\n",
    "\n",
    "\n",
    "print(result)\n",
    "\n",
    "# 登出系统\n",
    "bs.logout()\n",
    "code_name"
   ]
  },
  {
   "cell_type": "code",
   "execution_count": 4,
   "id": "a9aa7847",
   "metadata": {},
   "outputs": [],
   "source": [
    "import re"
   ]
  },
  {
   "cell_type": "code",
   "execution_count": 75,
   "id": "44a4a792",
   "metadata": {},
   "outputs": [
    {
     "name": "stdout",
     "output_type": "stream",
     "text": [
      "codeN=:三一\n"
     ]
    },
    {
     "data": {
      "text/plain": [
       "'三一'"
      ]
     },
     "execution_count": 75,
     "metadata": {},
     "output_type": "execute_result"
    }
   ],
   "source": [
    "code_name= input('codeN=:')\n",
    "code_name=code_name.lower()\n",
    "code_name"
   ]
  },
  {
   "cell_type": "code",
   "execution_count": 79,
   "id": "4900ec20",
   "metadata": {},
   "outputs": [
    {
     "name": "stdout",
     "output_type": "stream",
     "text": [
      "login success!\n",
      "Not match!!\n",
      "输入的名称不唯一['三一转债', '三一重工', '三一重能']，请加上前缀sh./sz./...\n",
      "logout success!\n"
     ]
    },
    {
     "data": {
      "text/plain": [
       "(        code code_name     ipoDate     outDate type status\n",
       " 0  sh.110032      三一转债  2016-01-18  2019-03-26    4      0\n",
       " 1  sh.600031      三一重工  2003-07-03                1      1\n",
       " 2  sh.688349      三一重能  2022-06-22                1      1,\n",
       " '',\n",
       " '')"
      ]
     },
     "execution_count": 79,
     "metadata": {},
     "output_type": "execute_result"
    }
   ],
   "source": [
    "lg = bs.login()\n",
    "pattern1 = re.compile(r'\\b(of|sh|sz|bj).\\d{6}$')\n",
    "pattern2 = re.compile(r'\\b([0-9]{6})$')\n",
    "match1 = pattern1.search(code_name)                     \n",
    "match2 = pattern2.search(code_name)\n",
    "code=''\n",
    "name=''\n",
    "if match1:\n",
    "    print(match1)\n",
    "    st_bs = bs.query_stock_basic(code_name)\n",
    "    result = st_bs.get_data()\n",
    "    code = result.loc[0,'code']\n",
    "    name = result.loc[0]['code_name']\n",
    "elif match2:\n",
    "    print(match2)\n",
    "    code_lst=[]\n",
    "    for code_b in code_list['code']:        \n",
    "        if code_b[-6:]==code_name:\n",
    "            code_lst.append(code_b)\n",
    "    if len(code_lst) ==1:\n",
    "        code_name = code_lst[0]\n",
    "        st_bs = bs.query_stock_basic(code_name)\n",
    "        result = st_bs.get_data()\n",
    "        code = result.loc[0,'code']\n",
    "        name = result.loc[0]['code_name']\n",
    "#         msg = '输入正确！'\n",
    "    elif len(code_lst) >1:\n",
    "        msg = '输入的代码不唯一'+str(code_lst)+'，请加上前缀sh./sz./...'\n",
    "        print(msg)        \n",
    "    else:\n",
    "        msg = '请重新输入正确的代码, eg: sh.600001'\n",
    "        print(msg)\n",
    "else:\n",
    "    print('Not match!!')\n",
    "    st_bs = bs.query_stock_basic(code_name=code_name)\n",
    "    result = st_bs.get_data()\n",
    "    if result.shape[0] ==1:\n",
    "        code = result.loc[0,'code']\n",
    "        name = result.loc[0]['code_name']        \n",
    "    else:\n",
    "        msg = '输入的名称不唯一'+str(result['code_name'].to_list())+'，请加上前缀sh./sz./...'\n",
    "        print(msg)\n",
    "if code=='' or name=='':\n",
    "    msg = '请重新输入正确的代码, eg: sh.600001'\n",
    "bs.logout()\n",
    "result,code,name\n"
   ]
  },
  {
   "cell_type": "code",
   "execution_count": 17,
   "id": "8620abda",
   "metadata": {},
   "outputs": [
    {
     "name": "stdout",
     "output_type": "stream",
     "text": [
      "<re.Match object; span=(3, 11), match='天上人间.fla'>\n",
      "二泉映月.mp3\n"
     ]
    }
   ],
   "source": [
    "import re\n",
    "\n",
    "S_name = '01.天上人间.fla02.二泉映月.mp3'\n",
    "pattern = re.compile('(?<=\\d{2}\\.)[\\u4e00-\\u9fa5]+\\.\\w{3}')\n",
    "match1 = pattern.search(S_name)\n",
    "match2 = pattern.findall(S_name)\n",
    "\n",
    "print(match1)\n",
    "print(match2[1])"
   ]
  },
  {
   "cell_type": "code",
   "execution_count": null,
   "id": "cd833388",
   "metadata": {},
   "outputs": [],
   "source": [
    "pattern = re.compile(/^(s[hz]|S[HZ])(000[\\d]{3}|002[\\d]{3}|300[\\d]{3}|600[\\d]{3}|60[\\d]{4})$/)  \n",
    "BF_lst = []\n",
    "for file in BFdir_lst:\n",
    "    match = pattern.search(file)\n",
    "    if match:\n",
    "        # file_path = os.path.join(BFdir, file)\n",
    "        BF_lst.append(file)"
   ]
  }
 ],
 "metadata": {
  "kernelspec": {
   "display_name": "Python 3 (ipykernel)",
   "language": "python",
   "name": "python3"
  },
  "language_info": {
   "codemirror_mode": {
    "name": "ipython",
    "version": 3
   },
   "file_extension": ".py",
   "mimetype": "text/x-python",
   "name": "python",
   "nbconvert_exporter": "python",
   "pygments_lexer": "ipython3",
   "version": "3.9.7"
  }
 },
 "nbformat": 4,
 "nbformat_minor": 5
}
